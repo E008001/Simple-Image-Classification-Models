{
 "cells": [
  {
   "cell_type": "markdown",
   "metadata": {
    "id": "1SKQlwRNlCpt"
   },
   "source": [
    "# Convolutional Neural Networks Model for training MNIST Dataset\n"
   ]
  },
  {
   "cell_type": "markdown",
   "metadata": {
    "id": "ITLAJsaVyIzw"
   },
   "source": [
    "## Import libraries"
   ]
  },
  {
   "cell_type": "code",
   "execution_count": 58,
   "metadata": {
    "id": "A1eqaElXk8vU"
   },
   "outputs": [],
   "source": [
    "import numpy as np\n",
    "import pandas as pd\n",
    "#import random\n",
    "import tensorflow as tf\n",
    "import matplotlib.pyplot as plt\n",
    "from sklearn.metrics import accuracy_score\n",
    "from tensorflow.keras.models import Sequential\n",
    "from tensorflow.keras.layers import Flatten, Conv2D, Dense, MaxPooling2D\n",
    "from tensorflow.keras.optimizers import SGD\n",
    "from tensorflow.keras.utils import to_categorical\n",
    "from tensorflow.keras.datasets import mnist"
   ]
  },
  {
   "cell_type": "markdown",
   "metadata": {
    "id": "tODFe972plqh"
   },
   "source": [
    "### Loading the MNIST dataset using Keras."
   ]
  },
  {
   "cell_type": "code",
   "execution_count": 59,
   "metadata": {
    "id": "EIF-a17Ckyuf"
   },
   "outputs": [],
   "source": [
    "(X_train, y_train), (X_test, y_test) = mnist.load_data()"
   ]
  },
  {
   "cell_type": "code",
   "execution_count": 60,
   "metadata": {
    "colab": {
     "base_uri": "https://localhost:8080/"
    },
    "id": "j003mG6kky5F",
    "outputId": "bdb72f20-bbc9-48d7-c647-b573f4e00a46"
   },
   "outputs": [
    {
     "name": "stdout",
     "output_type": "stream",
     "text": [
      "(60000, 28, 28)\n"
     ]
    }
   ],
   "source": [
    "print(X_train.shape)"
   ]
  },
  {
   "cell_type": "code",
   "execution_count": 61,
   "metadata": {
    "colab": {
     "base_uri": "https://localhost:8080/"
    },
    "id": "lZenxYcjky9A",
    "outputId": "7db3437b-f0d5-403d-f87b-a1dc500d1db3"
   },
   "outputs": [
    {
     "data": {
      "text/plain": [
       "(0, 255)"
      ]
     },
     "execution_count": 61,
     "metadata": {},
     "output_type": "execute_result"
    }
   ],
   "source": [
    "X_train[0].min(), X_train[0].max()"
   ]
  },
  {
   "cell_type": "code",
   "execution_count": 62,
   "metadata": {
    "colab": {
     "base_uri": "https://localhost:8080/"
    },
    "id": "FPSC4rR1kzEA",
    "outputId": "7c6001f9-ee58-45f5-c27f-bf1421ddb196"
   },
   "outputs": [
    {
     "data": {
      "text/plain": [
       "(0.0, 1.0)"
      ]
     },
     "execution_count": 62,
     "metadata": {},
     "output_type": "execute_result"
    }
   ],
   "source": [
    "X_train = (X_train - 0.0) / (255.0 - 0.0)\n",
    "X_test = (X_test - 0.0) / (255.0 - 0.0)\n",
    "\n",
    "X_train[0].min(), X_train[0].max()"
   ]
  },
  {
   "cell_type": "markdown",
   "metadata": {
    "id": "0k_yvLE5p1He"
   },
   "source": [
    "## plot the first 10 images on the train set"
   ]
  },
  {
   "cell_type": "code",
   "execution_count": 37,
   "metadata": {
    "colab": {
     "base_uri": "https://localhost:8080/",
     "height": 310
    },
    "id": "h25L4b2ekzHt",
    "outputId": "1f70c7df-f0d0-4b60-fbc3-6fc0cf58f74e"
   },
   "outputs": [
    {
     "data": {
      "image/png": "[encoded data removed]",
      "text/plain": [
       "<Figure size 1152x720 with 10 Axes>"
      ]
     },
     "metadata": {},
     "output_type": "display_data"
    }
   ],
   "source": [
    "def plot_digit(image, digit, plt, i):\n",
    "    plt.subplot(4, 5, i + 1)\n",
    "    plt.imshow(image, cmap=plt.get_cmap('gray'))\n",
    "    plt.title(f\"Digit: {digit}\")\n",
    "    plt.xticks([])\n",
    "    plt.yticks([])\n",
    "\n",
    "\n",
    "plt.figure(figsize=(16, 10))\n",
    "for i in range(10):\n",
    "    plot_digit(X_train[i], y_train[i], plt, i)\n",
    "    \n",
    "plt.show()"
   ]
  },
  {
   "cell_type": "markdown",
   "metadata": {
    "id": "sw4LAQRwqYEk"
   },
   "source": [
    "# use reshape() function to reshape data"
   ]
  },
  {
   "cell_type": "code",
   "execution_count": 63,
   "metadata": {
    "id": "JhCjUc13kzLw"
   },
   "outputs": [],
   "source": [
    "X_train = X_train.reshape((X_train.shape + (1,)))\n",
    "X_test = X_test.reshape((X_test.shape + (1,)))"
   ]
  },
  {
   "cell_type": "code",
   "execution_count": 64,
   "metadata": {
    "colab": {
     "base_uri": "https://localhost:8080/"
    },
    "id": "wYWoq91IkzPU",
    "outputId": "faa53e34-d53f-41ae-e6ac-6fea2746ee55"
   },
   "outputs": [
    {
     "data": {
      "text/plain": [
       "array([5, 0, 4, 1, 9, 2, 1, 3, 1, 4, 3, 5, 3, 6, 1, 7, 2, 8, 6, 9],\n",
       "      dtype=uint8)"
      ]
     },
     "execution_count": 64,
     "metadata": {},
     "output_type": "execute_result"
    }
   ],
   "source": [
    "y_train[0:20]"
   ]
  },
  {
   "cell_type": "markdown",
   "metadata": {
    "id": "id1xskAWqrcy"
   },
   "source": [
    "### **Building the model**"
   ]
  },
  {
   "cell_type": "code",
   "execution_count": 65,
   "metadata": {
    "id": "ojtG_ZNKkzSF"
   },
   "outputs": [],
   "source": [
    "model = Sequential([\n",
    "    Conv2D(32, (3, 3), activation=\"relu\", input_shape=(28, 28, 1)),\n",
    "    Conv2D(16, (3, 3), activation=\"relu\"),\n",
    "    MaxPooling2D((2, 2)),\n",
    "    Flatten(),\n",
    "    Dense(50, activation=\"relu\"),\n",
    "    Dense(10, activation=\"softmax\")\n",
    "])"
   ]
  },
  {
   "cell_type": "markdown",
   "metadata": {
    "id": "S5samQgWq-wp"
   },
   "source": [
    " ## Train the Model\n",
    "\n",
    "use an SGD optimizer with 0.01 learning rate.\n",
    "\n",
    "use the sparse_categorical_crossentropy loss because our target values are represented as integers."
   ]
  },
  {
   "cell_type": "code",
   "execution_count": 66,
   "metadata": {
    "colab": {
     "base_uri": "https://localhost:8080/"
    },
    "id": "OSRFG4rQkzVO",
    "outputId": "04763e1a-4818-4ece-d8d3-b9386c624818"
   },
   "outputs": [
    {
     "name": "stdout",
     "output_type": "stream",
     "text": [
      "Model: \"sequential_6\"\n",
      "_________________________________________________________________\n",
      " Layer (type)                Output Shape              Param #   \n",
      "=================================================================\n",
      " conv2d_8 (Conv2D)           (None, 26, 26, 32)        320       \n",
      "                                                                 \n",
      " conv2d_9 (Conv2D)           (None, 24, 24, 16)        4624      \n",
      "                                                                 \n",
      " max_pooling2d_6 (MaxPooling  (None, 12, 12, 16)       0         \n",
      " 2D)                                                             \n",
      "                                                                 \n",
      " flatten_6 (Flatten)         (None, 2304)              0         \n",
      "                                                                 \n",
      " dense_12 (Dense)            (None, 50)                115250    \n",
      "                                                                 \n",
      " dense_13 (Dense)            (None, 10)                510       \n",
      "                                                                 \n",
      "=================================================================\n",
      "Total params: 120,704\n",
      "Trainable params: 120,704\n",
      "Non-trainable params: 0\n",
      "_________________________________________________________________\n"
     ]
    }
   ],
   "source": [
    "optimizer = SGD(learning_rate=0.01, momentum=0.9)\n",
    "model.compile(\n",
    "    optimizer=optimizer, \n",
    "    loss=\"sparse_categorical_crossentropy\", \n",
    "    metrics=[\"accuracy\"]\n",
    ")\n",
    "model.summary()"
   ]
  },
  {
   "cell_type": "markdown",
   "metadata": {
    "id": "IsBDSzAdrr-E"
   },
   "source": [
    "### **Training and testing the model**\n"
   ]
  },
  {
   "cell_type": "code",
   "execution_count": 67,
   "metadata": {
    "colab": {
     "base_uri": "https://localhost:8080/"
    },
    "id": "qCfUD1xVkziE",
    "outputId": "c66c648e-54e1-46ab-f42e-fc26f91f4ca1"
   },
   "outputs": [
    {
     "name": "stdout",
     "output_type": "stream",
     "text": [
      "Epoch 1/5\n",
      "1875/1875 [==============================] - 90s 48ms/step - loss: 0.2077 - accuracy: 0.9354\n",
      "Epoch 2/5\n",
      "1875/1875 [==============================] - 89s 48ms/step - loss: 0.0585 - accuracy: 0.9819\n",
      "Epoch 3/5\n",
      "1875/1875 [==============================] - 92s 49ms/step - loss: 0.0395 - accuracy: 0.9880\n",
      "Epoch 4/5\n",
      "1875/1875 [==============================] - 89s 48ms/step - loss: 0.0296 - accuracy: 0.9905\n",
      "Epoch 5/5\n",
      "1875/1875 [==============================] - 89s 48ms/step - loss: 0.0216 - accuracy: 0.9930\n"
     ]
    },
    {
     "data": {
      "text/plain": [
       "<keras.callbacks.History at 0x7f8e5d010f70>"
      ]
     },
     "execution_count": 67,
     "metadata": {},
     "output_type": "execute_result"
    }
   ],
   "source": [
    "model.fit(X_train, y_train, epochs=5, batch_size=32)"
   ]
  },
  {
   "cell_type": "markdown",
   "metadata": {
    "id": "3Aiy-mP9trhy"
   },
   "source": [
    "## test dsta with 10 images that set aside on our test set."
   ]
  },
  {
   "cell_type": "code",
   "execution_count": 68,
   "metadata": {
    "colab": {
     "base_uri": "https://localhost:8080/",
     "height": 484
    },
    "id": "g3m6rfdvnxgr",
    "outputId": "aa2be975-357d-4548-e1a9-450f9bbd5262"
   },
   "outputs": [
    {
     "name": "stdout",
     "output_type": "stream",
     "text": [
      "1/1 [==============================] - 0s 65ms/step\n",
      "1/1 [==============================] - 0s 20ms/step\n",
      "1/1 [==============================] - 0s 18ms/step\n",
      "1/1 [==============================] - 0s 17ms/step\n",
      "1/1 [==============================] - 0s 18ms/step\n",
      "1/1 [==============================] - 0s 20ms/step\n",
      "1/1 [==============================] - 0s 18ms/step\n",
      "1/1 [==============================] - 0s 20ms/step\n",
      "1/1 [==============================] - 0s 23ms/step\n",
      "1/1 [==============================] - 0s 20ms/step\n"
     ]
    },
    {
     "data": {
      "image/png": "[encoded data removed]",
      "text/plain": [
       "<Figure size 1152x720 with 10 Axes>"
      ]
     },
     "metadata": {},
     "output_type": "display_data"
    }
   ],
   "source": [
    "plt.figure(figsize=(16, 10))\n",
    "for i in range(10):\n",
    "    image = random.choice(X_test).squeeze()\n",
    "    digit = np.argmax(model.predict(image.reshape((1, 28, 28, 1)))[0], axis=-1)\n",
    "    plot_digit(image, digit, plt, i)\n",
    "\n",
    "plt.show()"
   ]
  },
  {
   "cell_type": "code",
   "execution_count": 69,
   "metadata": {
    "colab": {
     "base_uri": "https://localhost:8080/"
    },
    "id": "BoxyijK8nxmk",
    "outputId": "108a91bd-3d04-4d64-bd31-52d8d7b54c98"
   },
   "outputs": [
    {
     "name": "stdout",
     "output_type": "stream",
     "text": [
      "313/313 [==============================] - 4s 12ms/step\n"
     ]
    },
    {
     "data": {
      "text/plain": [
       "0.9864"
      ]
     },
     "execution_count": 69,
     "metadata": {},
     "output_type": "execute_result"
    }
   ],
   "source": [
    "predictions = np.argmax(model.predict(X_test), axis=-1)\n",
    "accuracy_score(y_test, predictions)"
   ]
  },
  {
   "cell_type": "code",
   "execution_count": null,
   "metadata": {
    "id": "cO3PavOpnxvu"
   },
   "outputs": [],
   "source": []
  }
 ],
 "metadata": {
  "colab": {
   "provenance": []
  },
  "kernelspec": {
   "display_name": "Python 3",
   "language": "python",
   "name": "python3"
  },
  "language_info": {
   "codemirror_mode": {
    "name": "ipython",
    "version": 3
   },
   "file_extension": ".py",
   "mimetype": "text/x-python",
   "name": "python",
   "nbconvert_exporter": "python",
   "pygments_lexer": "ipython3",
   "version": "3.7.3"
  }
 },
 "nbformat": 4,
 "nbformat_minor": 2
}
